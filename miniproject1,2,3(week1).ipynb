{
  "nbformat": 4,
  "nbformat_minor": 0,
  "metadata": {
    "colab": {
      "provenance": [],
      "authorship_tag": "ABX9TyMB7NdUkv9EK5MuIIm8D08z",
      "include_colab_link": true
    },
    "kernelspec": {
      "name": "python3",
      "display_name": "Python 3"
    },
    "language_info": {
      "name": "python"
    }
  },
  "cells": [
    {
      "cell_type": "markdown",
      "metadata": {
        "id": "view-in-github",
        "colab_type": "text"
      },
      "source": [
        "<a href=\"https://colab.research.google.com/github/Uma1709/intership/blob/main/miniproject1%2C2%2C3(week1).ipynb\" target=\"_parent\"><img src=\"https://colab.research.google.com/assets/colab-badge.svg\" alt=\"Open In Colab\"/></a>"
      ]
    },
    {
      "cell_type": "code",
      "execution_count": null,
      "metadata": {
        "colab": {
          "base_uri": "https://localhost:8080/"
        },
        "id": "g5qc1d4Yy9sA",
        "outputId": "df4e38b5-003a-4dcb-f116-12b029ac0efd"
      },
      "outputs": [
        {
          "output_type": "stream",
          "name": "stdout",
          "text": [
            "Subset with maximum sum: [8, 3]\n",
            "Maximum sum: 11\n"
          ]
        }
      ],
      "source": [
        "#subset problem\n",
        "def subset_selection_max_sum(arr):\n",
        "    n = len(arr)\n",
        "    total_sum = sum(arr)\n",
        "\n",
        "    # Create a 2D table to store the optimal solutions\n",
        "    dp = [[False for _ in range(total_sum + 1)] for _ in range(n + 1)]\n",
        "\n",
        "    # Base case: an empty set can always achieve sum 0\n",
        "    for i in range(n + 1):\n",
        "        dp[i][0] = True\n",
        "\n",
        "    # Dynamic programming loop\n",
        "    for i in range(1, n + 1):\n",
        "        for j in range(1, total_sum + 1):\n",
        "            dp[i][j] = dp[i - 1][j]\n",
        "            if j >= arr[i - 1]:\n",
        "                dp[i][j] = dp[i][j] or dp[i - 1][j - arr[i - 1]]\n",
        "\n",
        "    # Find the maximum sum that can be achieved\n",
        "    max_sum = total_sum // 2\n",
        "    while not dp[n][max_sum]:\n",
        "        max_sum -= 1\n",
        "\n",
        "    # Find the elements in the subset with the maximum sum\n",
        "    subset = []\n",
        "    i = n\n",
        "    j = max_sum\n",
        "    while i > 0 and j > 0:\n",
        "        if dp[i][j] and not dp[i - 1][j]:\n",
        "            subset.append(arr[i - 1])\n",
        "            j -= arr[i - 1]\n",
        "        i -= 1\n",
        "\n",
        "    return subset, max_sum\n",
        "\n",
        "\n",
        "# Example usage:\n",
        "arr = [3, 1, 8, 4, 2, 5]\n",
        "subset, max_sum = subset_selection_max_sum(arr)\n",
        "print(\"Subset with maximum sum:\", subset)\n",
        "print(\"Maximum sum:\", max_sum)\n"
      ]
    },
    {
      "cell_type": "markdown",
      "source": [
        "#ComboFinder"
      ],
      "metadata": {
        "id": "5nGQ68dBz_we"
      }
    },
    {
      "cell_type": "code",
      "source": [
        "!pip install combinations"
      ],
      "metadata": {
        "colab": {
          "base_uri": "https://localhost:8080/"
        },
        "id": "ZypSNblA0I8D",
        "outputId": "ce976be2-d1fa-41f3-9968-776291c5b6ff"
      },
      "execution_count": null,
      "outputs": [
        {
          "output_type": "stream",
          "name": "stdout",
          "text": [
            "\u001b[31mERROR: Could not find a version that satisfies the requirement combinations (from versions: none)\u001b[0m\u001b[31m\n",
            "\u001b[0m\u001b[31mERROR: No matching distribution found for combinations\u001b[0m\u001b[31m\n",
            "\u001b[0m"
          ]
        }
      ]
    },
    {
      "cell_type": "code",
      "source": [
        "def find_combinations_recursive(input_set, r):\n",
        "    if r == 0:\n",
        "        return [[]]\n",
        "    if len(input_set) == 0:\n",
        "        return []\n",
        "\n",
        "    result = []\n",
        "    first, *rest = input_set\n",
        "\n",
        "    # Include the first element in combinations of length r\n",
        "    for comb in find_combinations_recursive(rest, r - 1):\n",
        "        result.append([first] + comb)\n",
        "\n",
        "    # Exclude the first element in combinations of length r\n",
        "    result.extend(find_combinations_recursive(rest, r))\n",
        "\n",
        "    return result\n",
        "\n",
        "# Example usage:\n",
        "input_set = [1, 2, 3, 4]\n",
        "r = 2\n",
        "combinations_list = find_combinations_recursive(input_set, r)\n",
        "print(combinations_list)\n"
      ],
      "metadata": {
        "colab": {
          "base_uri": "https://localhost:8080/"
        },
        "id": "8a15GOkL06PR",
        "outputId": "ee087f84-ba5a-4396-ecd4-604dbf0e60e2"
      },
      "execution_count": null,
      "outputs": [
        {
          "output_type": "stream",
          "name": "stdout",
          "text": [
            "[[1, 2], [1, 3], [1, 4], [2, 3], [2, 4], [3, 4]]\n"
          ]
        }
      ]
    },
    {
      "cell_type": "code",
      "source": [
        "from itertools import combinations\n",
        "\n",
        "def find_combinations(input_set, r):\n",
        "    return list(combinations(input_set, r))\n",
        "\n",
        "# Example usage:\n",
        "input_set = [1, 2, 3, 4]\n",
        "r = 2\n",
        "combinations_list = find_combinations(input_set, r)\n",
        "print(combinations_list)\n"
      ],
      "metadata": {
        "colab": {
          "base_uri": "https://localhost:8080/"
        },
        "id": "8dkUNr6l0VG7",
        "outputId": "2b44a741-c35e-4ccd-f145-474c98be02b4"
      },
      "execution_count": null,
      "outputs": [
        {
          "output_type": "stream",
          "name": "stdout",
          "text": [
            "[(1, 2), (1, 3), (1, 4), (2, 3), (2, 4), (3, 4)]\n"
          ]
        }
      ]
    },
    {
      "cell_type": "code",
      "source": [],
      "metadata": {
        "id": "JkIuhKph1Bpg"
      },
      "execution_count": null,
      "outputs": []
    },
    {
      "cell_type": "markdown",
      "source": [
        "#Text File Conversion"
      ],
      "metadata": {
        "id": "BUArt4ut1RNy"
      }
    },
    {
      "cell_type": "code",
      "source": [
        "def text_file_conversion(input_file, output_file):\n",
        "    try:\n",
        "        with open(input_file, 'r') as file:\n",
        "            data = file.read()\n",
        "\n",
        "        # Perform the conversion (e.g., convert to uppercase)\n",
        "        processed_data = data.upper()\n",
        "\n",
        "        with open(output_file, 'w') as file:\n",
        "            file.write(processed_data)\n",
        "\n",
        "        print(\"Text file conversion successful!\")\n",
        "    except FileNotFoundError:\n",
        "        print(\"Input file not found.\")\n",
        "    except Exception as e:\n",
        "        print(\"Error occurred during conversion:\", e)\n",
        "\n",
        "# Example usage:\n",
        "input_file = \"input.txt\"\n",
        "output_file = \"output.txt\"\n",
        "\n",
        "text_file_conversion(input_file, output_file)\n"
      ],
      "metadata": {
        "colab": {
          "base_uri": "https://localhost:8080/"
        },
        "id": "m2YLIKPS1Rpo",
        "outputId": "42eb3989-bc2e-459c-8680-749fe4a50be0"
      },
      "execution_count": null,
      "outputs": [
        {
          "output_type": "stream",
          "name": "stdout",
          "text": [
            "Input file not found.\n"
          ]
        }
      ]
    },
    {
      "cell_type": "markdown",
      "source": [
        "# Marks adding"
      ],
      "metadata": {
        "id": "eVnRibfD1meb"
      }
    },
    {
      "cell_type": "code",
      "source": [
        "def add_marks(set1, set2):\n",
        "    # Check if both sets have the same length\n",
        "    if len(set1) != len(set2):\n",
        "        raise ValueError(\"Both sets should have the same length.\")\n",
        "\n",
        "    # Add the marks element-wise using list comprehension\n",
        "    result = [mark1 + mark2 for mark1, mark2 in zip(set1, set2)]\n",
        "    return result\n",
        "\n",
        "# Example usage:\n",
        "set1 = [80, 75, 90, 60]\n",
        "set2 = [70, 85, 95, 50]\n",
        "\n",
        "try:\n",
        "    added_marks = add_marks(set1, set2)\n",
        "    print(\"Added Marks:\", added_marks)\n",
        "except ValueError as e:\n",
        "    print(e)\n"
      ],
      "metadata": {
        "colab": {
          "base_uri": "https://localhost:8080/"
        },
        "id": "sHlbbkED1aN2",
        "outputId": "6654d21a-b5e8-4722-8469-ff39e9bc76ce"
      },
      "execution_count": null,
      "outputs": [
        {
          "output_type": "stream",
          "name": "stdout",
          "text": [
            "Added Marks: [150, 160, 185, 110]\n"
          ]
        }
      ]
    }
  ]
}