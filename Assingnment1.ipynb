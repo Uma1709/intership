{
  "nbformat": 4,
  "nbformat_minor": 0,
  "metadata": {
    "colab": {
      "provenance": [],
      "authorship_tag": "ABX9TyPVBclTq+u08pzvloGyqsoW",
      "include_colab_link": true
    },
    "kernelspec": {
      "name": "python3",
      "display_name": "Python 3"
    },
    "language_info": {
      "name": "python"
    }
  },
  "cells": [
    {
      "cell_type": "markdown",
      "metadata": {
        "id": "view-in-github",
        "colab_type": "text"
      },
      "source": [
        "<a href=\"https://colab.research.google.com/github/Uma1709/intership/blob/main/Assingnment1.ipynb\" target=\"_parent\"><img src=\"https://colab.research.google.com/assets/colab-badge.svg\" alt=\"Open In Colab\"/></a>"
      ]
    },
    {
      "cell_type": "code",
      "source": [],
      "metadata": {
        "id": "WkGhaxdCGja_"
      },
      "execution_count": null,
      "outputs": []
    },
    {
      "cell_type": "markdown",
      "source": [
        "Q1. L is a list defined as L= [11, 12, 13, 14].\n",
        "(i) WAP to add 50 and 60 to L.\n",
        "(ii) WAP to remove 11 and 13from L.\n",
        "(iii) WAP to sort L in ascending order.\n",
        "(iv) WAP to sort L in descending order.\n",
        "(v) WAP to search for 13 in L.\n",
        "(vi) WAP to count the number of elements present in L.\n",
        "(vii) WAP to sum all the elements in L.\n",
        "(viii) WAP to sum all ODD numbers in L.\n",
        "(ix) WAP to sum all EVEN numbers in L.\n",
        "(x) WAP to sum all PRIME numbers in L.\n",
        "(xi) WAP to clear all the elements in L.\n",
        "(xii) WAP to delete L."
      ],
      "metadata": {
        "id": "rhUCwQYVs5nM"
      }
    },
    {
      "cell_type": "code",
      "source": [
        "def is_prime(num):\n",
        "    if num < 2:\n",
        "        return False\n",
        "    for i in range(2, int(num ** 0.5) + 1):\n",
        "        if num % i == 0:\n",
        "            return False\n",
        "    return True\n",
        "\n",
        "# (i) Add 50 and 60 to L\n",
        "L = [11, 12, 13, 14]\n",
        "L.append(50)\n",
        "L.append(60)\n",
        "print(\"(i) Add 50 and 60 to L:\", L)\n",
        "\n",
        "# (ii) Remove 11 and 13 from L\n",
        "L.remove(11)\n",
        "L.remove(13)\n",
        "print(\"(ii) Remove 11 and 13 from L:\", L)\n",
        "\n",
        "# (iii) Sort L in ascending order\n",
        "L.sort()\n",
        "print(\"(iii) Sort L in ascending order:\", L)\n",
        "\n",
        "# (iv) Sort L in descending order\n",
        "L.sort(reverse=True)\n",
        "print(\"(iv) Sort L in descending order:\", L)\n",
        "\n",
        "# (v) Search for 13 in L\n",
        "if 13 in L:\n",
        "    print(\"(v) 13 is present in L.\")\n",
        "else:\n",
        "    print(\"(v) 13 is not present in L.\")\n",
        "\n",
        "# (vi) Count the number of elements present in L\n",
        "count = len(L)\n",
        "print(\"(vi) Number of elements in L:\", count)\n",
        "\n",
        "# (vii) Sum all the elements in L\n",
        "sum_elements = sum(L)\n",
        "print(\"(vii) Sum of elements in L:\", sum_elements)\n",
        "\n",
        "# (viii) Sum all ODD numbers in L\n",
        "sum_odd = sum(num for num in L if num % 2 != 0)\n",
        "print(\"(viii) Sum of odd numbers in L:\", sum_odd)\n",
        "\n",
        "# (ix) Sum all EVEN numbers in L\n",
        "sum_even = sum(num for num in L if num % 2 == 0)\n",
        "print(\"(ix) Sum of even numbers in L:\", sum_even)\n",
        "\n",
        "# (x) Sum all PRIME numbers in L\n",
        "sum_prime = sum(num for num in L if is_prime(num))\n",
        "print(\"(x) Sum of prime numbers in L:\", sum_prime)\n",
        "\n",
        "# (xi) Clear all the elements in L\n",
        "L.clear()\n"
      ],
      "metadata": {
        "colab": {
          "base_uri": "https://localhost:8080/"
        },
        "id": "ayZiKnzks6Fk",
        "outputId": "0f3879dd-16dc-4869-9c1e-d5ab470453f6"
      },
      "execution_count": 1,
      "outputs": [
        {
          "output_type": "stream",
          "name": "stdout",
          "text": [
            "(i) Add 50 and 60 to L: [11, 12, 13, 14, 50, 60]\n",
            "(ii) Remove 11 and 13 from L: [12, 14, 50, 60]\n",
            "(iii) Sort L in ascending order: [12, 14, 50, 60]\n",
            "(iv) Sort L in descending order: [60, 50, 14, 12]\n",
            "(v) 13 is not present in L.\n",
            "(vi) Number of elements in L: 4\n",
            "(vii) Sum of elements in L: 136\n",
            "(viii) Sum of odd numbers in L: 0\n",
            "(ix) Sum of even numbers in L: 136\n",
            "(x) Sum of prime numbers in L: 0\n"
          ]
        }
      ]
    },
    {
      "cell_type": "code",
      "source": [],
      "metadata": {
        "id": "vhKFnxNKtDYd"
      },
      "execution_count": null,
      "outputs": []
    },
    {
      "cell_type": "markdown",
      "source": [
        "#D is a dictionary defined as D= {1:5.6, 2:7.8, 3:6.6, 4:8.7, 5:7.7}.\n",
        "(i) WAP to add new entry in D; key=8 and value is 8.8\n",
        "(ii) WAP to remove key=2.\n",
        "(iii) WAP to check weather 6 key is present in D.\n",
        "(iv) WAP to count the number of elements present in D.\n",
        "(v) WAP to add all the values present D.\n",
        "(vi) WAP to update the value of 3 to 7.1.\n",
        "(vii) WAP to clear the dictionary"
      ],
      "metadata": {
        "id": "8oJdl5H0tO3V"
      }
    },
    {
      "cell_type": "code",
      "source": [
        "# (i) Add new entry in D; key=8 and value is 8.8\n",
        "D = {1: 5.6, 2: 7.8, 3: 6.6, 4: 8.7, 5: 7.7}\n",
        "D[8] = 8.8\n",
        "print(\"(i) Add new entry in D:\", D)\n",
        "\n",
        "# (ii) Remove key=2\n",
        "if 2 in D:\n",
        "    del D[2]\n",
        "print(\"(ii) Remove key=2 from D:\", D)\n",
        "\n",
        "# (iii) Check whether key=6 is present in D\n",
        "if 6 in D:\n",
        "    print(\"(iii) Key 6 is present in D.\")\n",
        "else:\n",
        "    print(\"(iii) Key 6 is not present in D.\")\n",
        "\n",
        "# (iv) Count the number of elements present in D\n",
        "num_elements = len(D)\n",
        "print(\"(iv) Number of elements in D:\", num_elements)\n",
        "\n",
        "# (v) Add all the values present in D\n",
        "sum_values = sum(D.values())\n",
        "print(\"(v) Sum of all values in D:\", sum_values)\n",
        "\n",
        "# (vi) Update the value of key 3 to 7.1\n",
        "if 3 in D:\n",
        "    D[3] = 7.1\n",
        "print(\"(vi) Updated D with new value for key 3:\", D)\n",
        "\n",
        "# (vii) Clear the dictionary D\n",
        "D.clear()\n",
        "print(\"(vii) Cleared D:\", D)\n"
      ],
      "metadata": {
        "colab": {
          "base_uri": "https://localhost:8080/"
        },
        "id": "tiUdUNdztPzk",
        "outputId": "e176f887-7da2-4c41-a984-541180639942"
      },
      "execution_count": 2,
      "outputs": [
        {
          "output_type": "stream",
          "name": "stdout",
          "text": [
            "(i) Add new entry in D: {1: 5.6, 2: 7.8, 3: 6.6, 4: 8.7, 5: 7.7, 8: 8.8}\n",
            "(ii) Remove key=2 from D: {1: 5.6, 3: 6.6, 4: 8.7, 5: 7.7, 8: 8.8}\n",
            "(iii) Key 6 is not present in D.\n",
            "(iv) Number of elements in D: 5\n",
            "(v) Sum of all values in D: 37.4\n",
            "(vi) Updated D with new value for key 3: {1: 5.6, 3: 7.1, 4: 8.7, 5: 7.7, 8: 8.8}\n",
            "(vii) Cleared D: {}\n"
          ]
        }
      ]
    },
    {
      "cell_type": "code",
      "source": [],
      "metadata": {
        "id": "kSlRefxitWk0"
      },
      "execution_count": null,
      "outputs": []
    },
    {
      "cell_type": "markdown",
      "source": [
        "# S1 is a set defined as S1= [10, 20, 30, 40, 50, 60].\n",
        " S2 is a set defined as S2= [40, 50, 60, 70, 80, 90].\n",
        "(i) WAP to add 55 and 66 in Set S1.\n",
        "(ii) WAP to remove 10 and 30 from Set S1.\n",
        "(iii) WAP to check whether 40 is present in S1.\n",
        "(iv) WAP to find the union between S1 and S2.\n",
        "(v) WAP to find the intersection between S1 and S2.\n",
        "(vi) WAP to find the S1 - S2. Section"
      ],
      "metadata": {
        "id": "9g3y5_XstXAb"
      }
    },
    {
      "cell_type": "code",
      "source": [
        "# (i) Add 55 and 66 in Set S1.\n",
        "S1 = {10, 20, 30, 40, 50, 60}\n",
        "S1.add(55)\n",
        "S1.add(66)\n",
        "print(\"(i) Add 55 and 66 in Set S1:\", S1)\n",
        "\n",
        "# (ii) Remove 10 and 30 from Set S1.\n",
        "S1.remove(10)\n",
        "S1.remove(30)\n",
        "print(\"(ii) Remove 10 and 30 from Set S1:\", S1)\n",
        "\n",
        "# (iii) Check whether 40 is present in S1.\n",
        "if 40 in S1:\n",
        "    print(\"(iii) 40 is present in S1.\")\n",
        "else:\n",
        "    print(\"(iii) 40 is not present in S1.\")\n",
        "\n",
        "# (iv) Find the union between S1 and S2.\n",
        "S2 = {40, 50, 60, 70, 80, 90}\n",
        "union_set = S1.union(S2)\n",
        "print(\"(iv) Union of S1 and S2:\", union_set)\n",
        "\n",
        "# (v) Find the intersection between S1 and S2.\n",
        "intersection_set = S1.intersection(S2)\n",
        "print(\"(v) Intersection of S1 and S2:\", intersection_set)\n",
        "\n",
        "# (vi) Find S1 - S2 (elements in S1 but not in S2).\n",
        "difference_set = S1.difference(S2)\n",
        "print(\"(vi) S1 - S2 (elements in S1 but not in S2):\", difference_set)\n"
      ],
      "metadata": {
        "colab": {
          "base_uri": "https://localhost:8080/"
        },
        "id": "2VgX-BewtgIE",
        "outputId": "2858a41e-0f1b-4da3-f6f3-05b48a4c6edf"
      },
      "execution_count": 3,
      "outputs": [
        {
          "output_type": "stream",
          "name": "stdout",
          "text": [
            "(i) Add 55 and 66 in Set S1: {50, 66, 20, 55, 40, 10, 60, 30}\n",
            "(ii) Remove 10 and 30 from Set S1: {50, 66, 20, 55, 40, 60}\n",
            "(iii) 40 is present in S1.\n",
            "(iv) Union of S1 and S2: {66, 70, 40, 80, 50, 20, 55, 90, 60}\n",
            "(v) Intersection of S1 and S2: {40, 50, 60}\n",
            "(vi) S1 - S2 (elements in S1 but not in S2): {66, 20, 55}\n"
          ]
        }
      ]
    },
    {
      "cell_type": "markdown",
      "source": [
        "#. Write the following program.\n",
        "(i) WAP to print 100 random strings whose length between 6 and 8.\n",
        "(ii) WAP to print all prime numbers between 600 and 800.\n",
        "(iii) WAP to print all numbers between 100 and 1000 that are divisible by 7 and 9"
      ],
      "metadata": {
        "id": "uxgXbjO-tp_D"
      }
    },
    {
      "cell_type": "code",
      "source": [
        "import random\n",
        "import string\n",
        "\n",
        "def generate_random_string(length):\n",
        "    return ''.join(random.choices(string.ascii_letters, k=length))\n",
        "\n",
        "num_strings = 100\n",
        "min_length = 6\n",
        "max_length = 8\n",
        "\n",
        "random_strings = [generate_random_string(random.randint(min_length, max_length)) for _ in range(num_strings)]\n",
        "\n",
        "print(\"(i) 100 random strings between 6 and 8 characters:\")\n",
        "print(random_strings)\n"
      ],
      "metadata": {
        "colab": {
          "base_uri": "https://localhost:8080/"
        },
        "id": "iUPV_H58t2gr",
        "outputId": "25e247f3-543b-4615-bdd9-4a155c19051d"
      },
      "execution_count": 4,
      "outputs": [
        {
          "output_type": "stream",
          "name": "stdout",
          "text": [
            "(i) 100 random strings between 6 and 8 characters:\n",
            "['EViHslb', 'MbNOIhL', 'QVaQyw', 'xizWaYHI', 'hYJjOCu', 'HXgimGPi', 'AcTvtgV', 'EAMZrpu', 'mjAFfv', 'emruii', 'YKKwSKg', 'dPtUpN', 'FHBnlvHf', 'PYtQLWgk', 'vDbqJR', 'heoHtq', 'FQxyIW', 'BgvOMD', 'iWkEmKuV', 'HOJkAYL', 'sCoLBaTy', 'fkPcQAT', 'WitlTy', 'Mqzqvlr', 'ivcbBnLv', 'oTMEKR', 'xWJjlX', 'cfgiglrW', 'WlBPSem', 'aIHhRoz', 'vnyjtL', 'PTePEk', 'vzhbPw', 'LwIoFm', 'zUaulCCG', 'UnRjvYk', 'WJqtmE', 'FjKrrAn', 'BrEnpATc', 'sJPtiNs', 'afpCumoS', 'kiXUGmXW', 'ihXcmQNI', 'apLmGeTH', 'npjeXwj', 'BSTDtdKU', 'CtZmhYI', 'YAWpnW', 'PGfGJwRx', 'YxdyAgRc', 'obFIUhjk', 'ITrEZlN', 'QuKXiM', 'ZsEXvnme', 'zVExjf', 'gRYlIl', 'wJSxDBO', 'gqduGg', 'xsKsMEz', 'dvtUmhK', 'CSggiyq', 'ECuEyZ', 'fDWocn', 'WnVVKh', 'mKRjEaQa', 'LjFUyt', 'UuzlOQg', 'zBBREPmr', 'bWOCJV', 'QUEAnOQA', 'foextuG', 'IyutyPn', 'AEcuVk', 'DRHKTr', 'TKImfNfF', 'KixsuQBn', 'BXIega', 'XInSHG', 'vLGKmlqQ', 'nFfHxAUS', 'PcYMFRBE', 'VVfTLH', 'CXEDTct', 'zkDlWp', 'jcZJihfI', 'opyEYO', 'HxQAvudN', 'WgbaAql', 'BADvwOE', 'wHOMUATQ', 'qnAUuPX', 'ILMwdf', 'EnpVzD', 'ESUYwME', 'kUbxtzoy', 'JjgPDnkQ', 'roSnimOZ', 'ZqdLlJjU', 'WgIJXHz', 'fgBQYDCu']\n"
          ]
        }
      ]
    },
    {
      "cell_type": "code",
      "source": [
        "def is_prime(num):\n",
        "    if num < 2:\n",
        "        return False\n",
        "    for i in range(2, int(num ** 0.5) + 1):\n",
        "        if num % i == 0:\n",
        "            return False\n",
        "    return True\n",
        "\n",
        "start_num = 600\n",
        "end_num = 800\n",
        "\n",
        "prime_numbers = [num for num in range(start_num, end_num + 1) if is_prime(num)]\n",
        "\n",
        "print(\"(ii) Prime numbers between 600 and 800:\")\n",
        "print(prime_numbers)\n",
        ""
      ],
      "metadata": {
        "colab": {
          "base_uri": "https://localhost:8080/"
        },
        "id": "BxZR8Y1_t8UL",
        "outputId": "b623b511-937e-41d0-83ec-18415a67d219"
      },
      "execution_count": 5,
      "outputs": [
        {
          "output_type": "stream",
          "name": "stdout",
          "text": [
            "(ii) Prime numbers between 600 and 800:\n",
            "[601, 607, 613, 617, 619, 631, 641, 643, 647, 653, 659, 661, 673, 677, 683, 691, 701, 709, 719, 727, 733, 739, 743, 751, 757, 761, 769, 773, 787, 797]\n"
          ]
        }
      ]
    },
    {
      "cell_type": "code",
      "source": [
        "start_num = 100\n",
        "end_num = 1000\n",
        "\n",
        "divisible_by_7_and_9 = [num for num in range(start_num, end_num + 1) if num % 7 == 0 and num % 9 == 0]\n",
        "\n",
        "print(\"(iii) Numbers between 100 and 1000 divisible by 7 and 9:\")\n",
        "print(divisible_by_7_and_9)\n"
      ],
      "metadata": {
        "colab": {
          "base_uri": "https://localhost:8080/"
        },
        "id": "_mjs4m9ouAWb",
        "outputId": "b43d0bd8-ef13-4aa7-ea03-fa10c09645d4"
      },
      "execution_count": 6,
      "outputs": [
        {
          "output_type": "stream",
          "name": "stdout",
          "text": [
            "(iii) Numbers between 100 and 1000 divisible by 7 and 9:\n",
            "[126, 189, 252, 315, 378, 441, 504, 567, 630, 693, 756, 819, 882, 945]\n"
          ]
        }
      ]
    },
    {
      "cell_type": "markdown",
      "source": [
        "# New SectionWAP to create two lists of 10 random numbers between 10 and 30; Find\n",
        "(i) Common numbers in the two lists\n",
        "(ii) Unique numbers in both the list\n",
        "(iii) Minimum in both the list\n",
        "(iv) Maximum in both the list\n",
        "(v) Sum of both the list"
      ],
      "metadata": {
        "id": "80gSdv9puIzC"
      }
    },
    {
      "cell_type": "code",
      "source": [
        "import random\n",
        "\n",
        "# Function to generate a list of 10 random numbers between 10 and 30\n",
        "def generate_random_list():\n",
        "    return [random.randint(10, 30) for _ in range(10)]\n",
        "\n",
        "# Generate two lists of random numbers\n",
        "list1 = generate_random_list()\n",
        "list2 = generate_random_list()\n",
        "\n",
        "print(\"(i) Common numbers in the two lists:\")\n",
        "common_numbers = list(set(list1).intersection(list2))\n",
        "print(common_numbers)\n",
        "\n",
        "print(\"\\n(ii) Unique numbers in both the lists:\")\n",
        "unique_numbers = list(set(list1).symmetric_difference(list2))\n",
        "print(unique_numbers)\n",
        "\n",
        "print(\"\\n(iii) Minimum in both the lists:\")\n",
        "min_in_list1 = min(list1)\n",
        "min_in_list2 = min(list2)\n",
        "print(\"Minimum in list 1:\", min_in_list1)\n",
        "print(\"Minimum in list 2:\", min_in_list2)\n",
        "\n",
        "print(\"\\n(iv) Maximum in both the lists:\")\n",
        "max_in_list1 = max(list1)\n",
        "max_in_list2 = max(list2)\n",
        "print(\"Maximum in list 1:\", max_in_list1)\n",
        "print(\"Maximum in list 2:\", max_in_list2)\n",
        "\n",
        "print(\"\\n(v) Sum of both the lists:\")\n",
        "sum_list1 = sum(list1)\n",
        "sum_list2 = sum(list2)\n",
        "print(\"Sum of list 1:\", sum_list1)\n",
        "print(\"Sum of list 2:\", sum_list2)\n"
      ],
      "metadata": {
        "colab": {
          "base_uri": "https://localhost:8080/"
        },
        "id": "w0GAq4KHuLyS",
        "outputId": "fb955a54-0f7f-41e2-c537-f8ecb04b3734"
      },
      "execution_count": 7,
      "outputs": [
        {
          "output_type": "stream",
          "name": "stdout",
          "text": [
            "(i) Common numbers in the two lists:\n",
            "[18, 12, 13, 30]\n",
            "\n",
            "(ii) Unique numbers in both the lists:\n",
            "[10, 11, 19, 21, 22, 25, 28, 29]\n",
            "\n",
            "(iii) Minimum in both the lists:\n",
            "Minimum in list 1: 10\n",
            "Minimum in list 2: 11\n",
            "\n",
            "(iv) Maximum in both the lists:\n",
            "Maximum in list 1: 30\n",
            "Maximum in list 2: 30\n",
            "\n",
            "(v) Sum of both the lists:\n",
            "Sum of list 1: 196\n",
            "Sum of list 2: 178\n"
          ]
        }
      ]
    },
    {
      "cell_type": "markdown",
      "source": [
        ". WAP to create a list of 100 random numbers between 100 and 900. Count and print the:\n",
        "(i) All odd numbers\n",
        "(ii) All even numbers\n",
        "(iii) All prime numbers\n"
      ],
      "metadata": {
        "id": "p2UXn0jLuVEq"
      }
    },
    {
      "cell_type": "code",
      "source": [
        "import random\n",
        "\n",
        "# Function to check if a number is prime\n",
        "def is_prime(num):\n",
        "    if num < 2:\n",
        "        return False\n",
        "    for i in range(2, int(num ** 0.5) + 1):\n",
        "        if num % i == 0:\n",
        "            return False\n",
        "    return True\n",
        "\n",
        "# Generate a list of 100 random numbers between 100 and 900\n",
        "random_numbers = [random.randint(100, 900) for _ in range(100)]\n",
        "\n",
        "# Initialize counters for odd, even, and prime numbers\n",
        "odd_count = 0\n",
        "even_count = 0\n",
        "prime_count = 0\n",
        "\n",
        "# Lists to store the odd, even, and prime numbers\n",
        "odd_numbers = []\n",
        "even_numbers = []\n",
        "prime_numbers = []\n",
        "\n",
        "# Count and categorize the numbers\n",
        "for num in random_numbers:\n",
        "    if num % 2 == 1:\n",
        "        odd_count += 1\n",
        "        odd_numbers.append(num)\n",
        "    else:\n",
        "        even_count += 1\n",
        "        even_numbers.append(num)\n",
        "\n",
        "    if is_prime(num):\n",
        "        prime_count += 1\n",
        "        prime_numbers.append(num)\n",
        "\n",
        "# Print the results\n",
        "print(\"(i) All odd numbers:\")\n",
        "print(odd_numbers)\n",
        "\n",
        "print(\"\\n(ii) All even numbers:\")\n",
        "print(even_numbers)\n",
        "\n",
        "print(\"\\n(iii) All prime numbers:\")\n",
        "print(prime_numbers)\n",
        "\n",
        "print(\"\\nCount of odd numbers:\", odd_count)\n",
        "print(\"Count of even numbers:\", even_count)\n",
        "print(\"Count of prime numbers:\", prime_count)\n"
      ],
      "metadata": {
        "colab": {
          "base_uri": "https://localhost:8080/"
        },
        "id": "6wZuiebnuVpy",
        "outputId": "2d758d1f-02cc-44f6-e0c1-2364570a33de"
      },
      "execution_count": 8,
      "outputs": [
        {
          "output_type": "stream",
          "name": "stdout",
          "text": [
            "(i) All odd numbers:\n",
            "[791, 539, 127, 673, 493, 895, 271, 107, 865, 375, 199, 275, 259, 685, 517, 385, 439, 763, 557, 467, 487, 205, 655, 523, 775, 157, 833, 397, 109, 279, 401, 285, 223, 203, 335, 593, 659, 431, 897, 487, 287, 435, 647, 181, 639, 615, 879, 571, 625, 361, 477]\n",
            "\n",
            "(ii) All even numbers:\n",
            "[532, 744, 144, 832, 594, 468, 118, 616, 764, 754, 182, 818, 676, 352, 612, 452, 842, 312, 230, 378, 622, 194, 826, 368, 372, 760, 836, 688, 576, 278, 578, 316, 768, 718, 404, 340, 450, 426, 736, 112, 482, 124, 710, 312, 460, 530, 104, 414, 686]\n",
            "\n",
            "(iii) All prime numbers:\n",
            "[127, 673, 271, 107, 199, 439, 557, 467, 487, 523, 157, 397, 109, 401, 223, 593, 659, 431, 487, 647, 181, 571]\n",
            "\n",
            "Count of odd numbers: 51\n",
            "Count of even numbers: 49\n",
            "Count of prime numbers: 22\n"
          ]
        }
      ]
    },
    {
      "cell_type": "code",
      "source": [],
      "metadata": {
        "id": "MofNLltLuZfa"
      },
      "execution_count": null,
      "outputs": []
    },
    {
      "cell_type": "markdown",
      "source": [
        "7. D is a dictionary defined as D={1:\"One\",2:\"Two\",3:\"Three\",4:\"Four\", 5:\"Five\"}.\n",
        " WAP to read all the keys and values from dictionary and write to the file in the given below format.\n",
        "Key1, Value1\n",
        "Key2, Value2\n",
        "Key3, Value3"
      ],
      "metadata": {
        "id": "128bvQt8uiLA"
      }
    },
    {
      "cell_type": "code",
      "source": [
        "D = {1: \"One\", 2: \"Two\", 3: \"Three\", 4: \"Four\", 5: \"Five\"}\n",
        "\n",
        "# Define the file name\n",
        "file_name = \"dictionary_output.txt\"\n",
        "\n",
        "# Open the file in write mode\n",
        "with open(file_name, \"w\") as file:\n",
        "    # Iterate through the dictionary items and write them to the file\n",
        "    for key, value in D.items():\n",
        "        file.write(f\"{key}, {value}\\n\")\n",
        "\n",
        "print(\"Data written to the file successfully!\")\n"
      ],
      "metadata": {
        "colab": {
          "base_uri": "https://localhost:8080/"
        },
        "id": "nk0PwOnBui9A",
        "outputId": "c04640b1-e552-4f9c-e662-9193e6800bc2"
      },
      "execution_count": 9,
      "outputs": [
        {
          "output_type": "stream",
          "name": "stdout",
          "text": [
            "Data written to the file successfully!\n"
          ]
        }
      ]
    },
    {
      "cell_type": "markdown",
      "source": [
        "Q8. To count the length of each element in the list L and write the results to a file:"
      ],
      "metadata": {
        "id": "lfZwMa62uy51"
      }
    },
    {
      "cell_type": "code",
      "source": [
        "L = [\"One\", \"Two\", \"Three\", \"Four\", \"Five\"]\n",
        "\n",
        "# Define the file name\n",
        "file_name = \"length_output.txt\"\n",
        "\n",
        "# Open the file in write mode\n",
        "with open(file_name, \"w\") as file:\n",
        "    # Iterate through the elements in the list and write the length to the file\n",
        "    for item in L:\n",
        "        length = len(item)\n",
        "        file.write(f\"{item}, {length}\\n\")\n",
        "\n",
        "print(\"Data written to the file successfully!\")\n"
      ],
      "metadata": {
        "colab": {
          "base_uri": "https://localhost:8080/"
        },
        "id": "NI1O9zrfu0lN",
        "outputId": "d6c3c2fe-e780-4de0-a110-c5365085c534"
      },
      "execution_count": 10,
      "outputs": [
        {
          "output_type": "stream",
          "name": "stdout",
          "text": [
            "Data written to the file successfully!\n"
          ]
        }
      ]
    },
    {
      "cell_type": "markdown",
      "source": [
        "to write 100 random strings whose length is between 10 and 15 to a file:"
      ],
      "metadata": {
        "id": "jVeTc39Lu5eM"
      }
    },
    {
      "cell_type": "code",
      "source": [
        "import random\n",
        "import string\n",
        "\n",
        "# Function to generate a random string of a given length\n",
        "def generate_random_string(length):\n",
        "    return ''.join(random.choices(string.ascii_letters, k=length))\n",
        "\n",
        "# Define the file name\n",
        "file_name = \"random_strings.txt\"\n",
        "\n",
        "# Open the file in write mode\n",
        "with open(file_name, \"w\") as file:\n",
        "    # Generate and write 100 random strings to the file\n",
        "    for _ in range(100):\n",
        "        random_length = random.randint(10, 15)\n",
        "        random_string = generate_random_string(random_length)\n",
        "        file.write(random_string + \"\\n\")\n",
        "\n",
        "print(\"Data written to the file successfully!\")\n"
      ],
      "metadata": {
        "colab": {
          "base_uri": "https://localhost:8080/"
        },
        "id": "e4RP1VI2u9n0",
        "outputId": "d02542b2-fa55-4194-d1cb-3e13ea1324fc"
      },
      "execution_count": 11,
      "outputs": [
        {
          "output_type": "stream",
          "name": "stdout",
          "text": [
            "Data written to the file successfully!\n"
          ]
        }
      ]
    },
    {
      "cell_type": "code",
      "source": [],
      "metadata": {
        "id": "6o7ScqJOvAD0"
      },
      "execution_count": null,
      "outputs": []
    },
    {
      "cell_type": "markdown",
      "source": [
        "To write all prime numbers between 600 and 800 to a file:"
      ],
      "metadata": {
        "id": "ADo8iLv2vDT0"
      }
    },
    {
      "cell_type": "code",
      "source": [
        "def is_prime(num):\n",
        "    if num < 2:\n",
        "        return False\n",
        "    for i in range(2, int(num ** 0.5) + 1):\n",
        "        if num % i == 0:\n",
        "            return False\n",
        "    return True\n",
        "\n",
        "# Define the file name\n",
        "file_name = \"prime_numbers.txt\"\n",
        "\n",
        "# Open the file in write mode\n",
        "with open(file_name, \"w\") as file:\n",
        "    # Find and write all prime numbers between 600 and 800 to the file\n",
        "    for num in range(600, 801):\n",
        "        if is_prime(num):\n",
        "            file.write(str(num) + \"\\n\")\n",
        "\n",
        "print(\"Data written to the file successfully!\")\n"
      ],
      "metadata": {
        "colab": {
          "base_uri": "https://localhost:8080/"
        },
        "id": "Euehdyb1vD4E",
        "outputId": "4017610c-d350-470f-907a-328601cf5d82"
      },
      "execution_count": 12,
      "outputs": [
        {
          "output_type": "stream",
          "name": "stdout",
          "text": [
            "Data written to the file successfully!\n"
          ]
        }
      ]
    },
    {
      "cell_type": "markdown",
      "source": [
        "1. WAP to calculate the time taken by a program.\n",
        "Q12. WAP to sort following number of elements in a list, calculate time taken and plot the graph.\n",
        "Number of elements in list Time Taken\n",
        "5k T1\n",
        "10k T2\n",
        "15k T3\n",
        "20k T4\n",
        "25k T5\n",
        "Q13. WAP to create a dictionary of student marks in five subjects and you have to find the student\n",
        " having maximum and minimum average marks"
      ],
      "metadata": {
        "id": "lTjzfSxovMJr"
      }
    },
    {
      "cell_type": "code",
      "source": [
        "import time\n",
        "\n",
        "start_time = time.time()\n",
        "\n",
        "# Your program code goes here\n",
        "\n",
        "end_time = time.time()\n",
        "execution_time = end_time - start_time\n",
        "\n",
        "print(\"Time taken:\", execution_time, \"seconds\")\n"
      ],
      "metadata": {
        "colab": {
          "base_uri": "https://localhost:8080/"
        },
        "id": "lBWPT6tVvNZz",
        "outputId": "1e490b3d-32c6-4577-eb76-da330f85ddef"
      },
      "execution_count": 13,
      "outputs": [
        {
          "output_type": "stream",
          "name": "stdout",
          "text": [
            "Time taken: 2.8371810913085938e-05 seconds\n"
          ]
        }
      ]
    },
    {
      "cell_type": "code",
      "source": [
        "import time\n",
        "import matplotlib.pyplot as plt\n",
        "\n",
        "def sort_list(elements):\n",
        "    # Function to sort a list of elements and return the time taken\n",
        "    start_time = time.time()\n",
        "    sorted_list = sorted(elements)\n",
        "    end_time = time.time()\n",
        "    return end_time - start_time\n",
        "\n",
        "# Number of elements in the list\n",
        "num_elements = [5000, 10000, 15000, 20000, 25000]\n",
        "\n",
        "# Time taken to sort each number of elements\n",
        "time_taken = [sort_list(list(range(n))) for n in num_elements]\n",
        "\n",
        "# Plotting the graph\n",
        "plt.plot(num_elements, time_taken, marker='o')\n",
        "plt.xlabel('Number of Elements in List')\n",
        "plt.ylabel('Time Taken (seconds)')\n",
        "plt.title('Time Taken to Sort Different Numbers of Elements')\n",
        "plt.show()\n"
      ],
      "metadata": {
        "colab": {
          "base_uri": "https://localhost:8080/",
          "height": 472
        },
        "id": "2x0zNTAZvQor",
        "outputId": "dce20863-5132-4585-bc00-0905edc17f2e"
      },
      "execution_count": 14,
      "outputs": [
        {
          "output_type": "display_data",
          "data": {
            "text/plain": [
              "<Figure size 640x480 with 1 Axes>"
            ],
            "image/png": "[encoded data removed]"
          },
          "metadata": {}
        }
      ]
    },
    {
      "cell_type": "code",
      "source": [
        "def calculate_average(marks):\n",
        "    return sum(marks) / len(marks)\n",
        "\n",
        "# Dictionary of student marks in five subjects (replace the sample data with actual student data)\n",
        "student_marks = {\n",
        "    \"Alice\": [90, 85, 92, 88, 95],\n",
        "    \"Bob\": [78, 82, 80, 85, 88],\n",
        "    \"Charlie\": [95, 92, 98, 89, 93],\n",
        "    \"David\": [86, 80, 82, 90, 88],\n",
        "    \"Eve\": [92, 87, 90, 89, 85]\n",
        "}\n",
        "\n",
        "# Find the student with maximum average marks\n",
        "max_average_student = max(student_marks, key=lambda x: calculate_average(student_marks[x]))\n",
        "\n",
        "# Find the student with minimum average marks\n",
        "min_average_student = min(student_marks, key=lambda x: calculate_average(student_marks[x]))\n",
        "\n",
        "print(\"Student with maximum average marks:\", max_average_student)\n",
        "print(\"Student with minimum average marks:\", min_average_student)\n"
      ],
      "metadata": {
        "colab": {
          "base_uri": "https://localhost:8080/"
        },
        "id": "7RnzITyuvTOz",
        "outputId": "be3bfddc-479a-43fa-bc73-2a9d36920695"
      },
      "execution_count": 15,
      "outputs": [
        {
          "output_type": "stream",
          "name": "stdout",
          "text": [
            "Student with maximum average marks: Charlie\n",
            "Student with minimum average marks: Bob\n"
          ]
        }
      ]
    }
  ]
}